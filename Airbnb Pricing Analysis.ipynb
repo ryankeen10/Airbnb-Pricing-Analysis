{
 "cells": [
  {
   "cell_type": "markdown",
   "metadata": {},
   "source": [
    "# San Diego AirBnB data"
   ]
  },
  {
   "cell_type": "code",
   "execution_count": 2,
   "metadata": {},
   "outputs": [],
   "source": [
    "import datetime\n",
    "import numpy as np\n",
    "import pandas as pd\n",
    "import matplotlib.pyplot as plt\n",
    "from sklearn.model_selection import train_test_split\n",
    "from sklearn.compose import ColumnTransformer\n",
    "from sklearn.preprocessing import OneHotEncoder\n",
    "from sklearn.preprocessing import RobustScaler\n",
    "from sklearn.preprocessing import StandardScaler\n",
    "from sklearn.tree import DecisionTreeRegressor\n",
    "from sklearn.linear_model import LogisticRegression\n",
    "from sklearn.linear_model import LinearRegression\n",
    "from sklearn.pipeline import make_pipeline\n",
    "from sklearn.model_selection import cross_val_score\n",
    "from sklearn.metrics import mean_squared_error\n",
    "from math import sqrt\n",
    "import seaborn as sns\n",
    "from scipy import stats\n",
    "from sklearn.metrics import r2_score"
   ]
  },
  {
   "cell_type": "code",
   "execution_count": 3,
   "metadata": {},
   "outputs": [],
   "source": [
    "df = pd.read_csv('/Users/ryankeen/Desktop/UCSD-Python4DS 2/Final Project/listings.csv')"
   ]
  },
  {
   "cell_type": "code",
   "execution_count": 4,
   "metadata": {},
   "outputs": [
    {
     "data": {
      "text/plain": [
       "(9286, 74)"
      ]
     },
     "execution_count": 4,
     "metadata": {},
     "output_type": "execute_result"
    }
   ],
   "source": [
    "df.shape"
   ]
  },
  {
   "cell_type": "code",
   "execution_count": 5,
   "metadata": {},
   "outputs": [],
   "source": [
    "#drop unwanted columns\n",
    "drop_vars = ['host_picture_url', 'listing_url', 'host_thumbnail_url', 'scrape_id', 'picture_url', 'host_id', 'host_url', 'calendar_last_scraped', 'first_review', 'neighborhood_overview', 'description', 'host_listings_count', 'host_total_listings_count','host_neighbourhood', 'neighbourhood_group_cleansed',  'neighbourhood', 'bathrooms','calendar_updated', 'license', 'review_scores_accuracy', 'host_about',  'maximum_nights', 'host_location', 'host_name','minimum_minimum_nights','minimum_maximum_nights','maximum_minimum_nights','maximum_maximum_nights', 'number_of_reviews_l30d', 'calculated_host_listings_count', 'calculated_host_listings_count_entire_homes', 'calculated_host_listings_count_private_rooms',  'calculated_host_listings_count_shared_rooms', 'name', 'host_since',  'host_acceptance_rate', 'last_scraped','host_verifications', 'has_availability', 'minimum_nights_avg_ntm', 'latitude','longitude', 'availability_60', 'availability_90', 'availability_365', 'number_of_reviews_ltm', 'reviews_per_month', 'maximum_nights_avg_ntm']\n",
    "df = df.drop(drop_vars, axis = 1)"
   ]
  },
  {
   "cell_type": "code",
   "execution_count": 6,
   "metadata": {},
   "outputs": [
    {
     "data": {
      "text/plain": [
       "(9286, 26)"
      ]
     },
     "execution_count": 6,
     "metadata": {},
     "output_type": "execute_result"
    }
   ],
   "source": [
    "df.shape"
   ]
  },
  {
   "cell_type": "code",
   "execution_count": 7,
   "metadata": {},
   "outputs": [],
   "source": [
    "#drop null values\n",
    "df = df.dropna()"
   ]
  },
  {
   "cell_type": "code",
   "execution_count": 8,
   "metadata": {},
   "outputs": [],
   "source": [
    "# make host response rate a float\n",
    "df['host_response_rate'] = df['host_response_rate'].str.replace('%', '')\n",
    "df['host_response_rate'] = df['host_response_rate'].astype(float)\n",
    "df['host_response_rate'] = df['host_response_rate']/100"
   ]
  },
  {
   "cell_type": "code",
   "execution_count": 9,
   "metadata": {},
   "outputs": [],
   "source": [
    "# make price a float\n",
    "df['price'] = df['price'].str.replace('$', '')\n",
    "df['price'] = df['price'].str.replace(',', '')\n",
    "df['price'] = df['price'].astype(float)"
   ]
  },
  {
   "cell_type": "code",
   "execution_count": 10,
   "metadata": {},
   "outputs": [],
   "source": [
    "# Convert object to datetime\n",
    "df['last_review'] = pd.to_datetime(df.last_review)"
   ]
  },
  {
   "cell_type": "code",
   "execution_count": 11,
   "metadata": {},
   "outputs": [],
   "source": [
    "# create datetime variable for 2-23-2021\n",
    "today = datetime.date(2021,2,21)\n",
    "today = pd.to_datetime(today)"
   ]
  },
  {
   "cell_type": "code",
   "execution_count": 12,
   "metadata": {},
   "outputs": [],
   "source": [
    "# create new variable time from last review\n",
    "df['time_from_last_review'] = today - df['last_review']\n",
    "df['time_from_last_review'] = df['time_from_last_review'].dt.days.astype('int64')\n",
    "df = df.drop('last_review', axis = 1)"
   ]
  },
  {
   "cell_type": "code",
   "execution_count": 13,
   "metadata": {},
   "outputs": [],
   "source": [
    "# convert amenities to number of amenities\n",
    "df['num_amenities'] = df['amenities'].apply(lambda x: x.count(',')+1)"
   ]
  },
  {
   "cell_type": "code",
   "execution_count": 14,
   "metadata": {},
   "outputs": [],
   "source": [
    "#remove properties with zero reviews in last 90 days\n",
    "df= df[df['time_from_last_review'] <= 90]"
   ]
  },
  {
   "cell_type": "code",
   "execution_count": 15,
   "metadata": {},
   "outputs": [],
   "source": [
    "#remove propoerties with greater than 5 bedrooms\n",
    "df = df[df['bedrooms'] <=5 ]"
   ]
  },
  {
   "cell_type": "markdown",
   "metadata": {},
   "source": [
    "## Remove outliers in 'Price' column"
   ]
  },
  {
   "cell_type": "code",
   "execution_count": 16,
   "metadata": {},
   "outputs": [],
   "source": [
    "def remove_outlier(df, column):\n",
    "    Q1 = df[column].quantile(q = .25)\n",
    "    Q3 = df[column].quantile(q = .75)\n",
    "    iqr = Q3 - Q1\n",
    "    iqr_mult = iqr * 1.5\n",
    "    floor = Q1 - iqr_mult\n",
    "    ceiling = Q3 + iqr_mult\n",
    "    return df[(df[column] > floor) & (df[column] < ceiling)]"
   ]
  },
  {
   "cell_type": "code",
   "execution_count": 17,
   "metadata": {},
   "outputs": [],
   "source": [
    "df = remove_outlier(df, 'price')"
   ]
  },
  {
   "cell_type": "markdown",
   "metadata": {},
   "source": [
    "## Define variable groups"
   ]
  },
  {
   "cell_type": "code",
   "execution_count": 18,
   "metadata": {},
   "outputs": [],
   "source": [
    "categorical_vars = ['host_response_time', 'host_is_superhost', 'host_identity_verified', 'host_has_profile_pic', 'property_type', 'room_type', 'instant_bookable', 'bathrooms_text']"
   ]
  },
  {
   "cell_type": "code",
   "execution_count": 19,
   "metadata": {},
   "outputs": [],
   "source": [
    "num_vars = ['host_response_rate', 'accommodates', 'bedrooms', 'beds', 'minimum_nights', 'availability_30', 'number_of_reviews', 'review_scores_rating', 'review_scores_cleanliness', 'review_scores_checkin', 'review_scores_communication', 'review_scores_location', 'review_scores_value', 'time_from_last_review', 'num_amenities', 'price']"
   ]
  },
  {
   "cell_type": "code",
   "execution_count": 20,
   "metadata": {},
   "outputs": [],
   "source": [
    "num_varsX = ['host_response_rate', 'accommodates', 'bedrooms', 'beds', 'minimum_nights', 'availability_30', 'number_of_reviews', 'review_scores_rating', 'review_scores_cleanliness', 'review_scores_checkin', 'review_scores_communication', 'review_scores_location', 'review_scores_value', 'time_from_last_review', 'num_amenities']"
   ]
  },
  {
   "cell_type": "code",
   "execution_count": 21,
   "metadata": {},
   "outputs": [],
   "source": [
    "clean_data = df"
   ]
  },
  {
   "cell_type": "markdown",
   "metadata": {},
   "source": [
    "## Define x and y vars"
   ]
  },
  {
   "cell_type": "code",
   "execution_count": 22,
   "metadata": {},
   "outputs": [],
   "source": [
    "# define y\n",
    "target = ['price']"
   ]
  },
  {
   "cell_type": "code",
   "execution_count": 23,
   "metadata": {},
   "outputs": [],
   "source": [
    "# define independent variables\n",
    "features = ['host_response_time', 'host_response_rate', 'host_is_superhost', 'host_has_profile_pic',\n",
    "          'host_identity_verified', 'property_type', 'room_type', 'accommodates', \n",
    "          'bathrooms_text', 'bedrooms', 'beds', 'price', 'minimum_nights', \n",
    "          'availability_30', 'number_of_reviews', 'review_scores_rating', 'review_scores_cleanliness',\n",
    "          'review_scores_checkin', 'review_scores_communication','review_scores_location', 'review_scores_value', \n",
    "          'instant_bookable', 'num_amenities', 'time_from_last_review']"
   ]
  },
  {
   "cell_type": "code",
   "execution_count": 24,
   "metadata": {},
   "outputs": [],
   "source": [
    "# define X\n",
    "X = clean_data[features]\n",
    "y = df[target]"
   ]
  },
  {
   "cell_type": "markdown",
   "metadata": {},
   "source": [
    "## Training/Testing sets"
   ]
  },
  {
   "cell_type": "code",
   "execution_count": 25,
   "metadata": {},
   "outputs": [],
   "source": [
    "X_train, X_test, y_train, y_test = train_test_split(X,y, test_size = .4, random_state = 79)"
   ]
  },
  {
   "cell_type": "markdown",
   "metadata": {},
   "source": [
    "## 1: Linear Regression for numeric vars"
   ]
  },
  {
   "cell_type": "code",
   "execution_count": 26,
   "metadata": {},
   "outputs": [],
   "source": [
    "linreg = LinearRegression()\n",
    "logreg = LogisticRegression()"
   ]
  },
  {
   "cell_type": "code",
   "execution_count": 27,
   "metadata": {},
   "outputs": [],
   "source": [
    "X_num = clean_data[num_varsX]\n",
    "y_num = clean_data[target]"
   ]
  },
  {
   "cell_type": "code",
   "execution_count": 28,
   "metadata": {},
   "outputs": [],
   "source": [
    "Xnum_train, Xnum_test, ynum_train, ynum_test = train_test_split(X_num, y_num, test_size = .4, random_state = 79)"
   ]
  },
  {
   "cell_type": "code",
   "execution_count": 29,
   "metadata": {},
   "outputs": [
    {
     "data": {
      "text/plain": [
       "LinearRegression()"
      ]
     },
     "execution_count": 29,
     "metadata": {},
     "output_type": "execute_result"
    }
   ],
   "source": [
    "linreg.fit(Xnum_train, ynum_train)"
   ]
  },
  {
   "cell_type": "code",
   "execution_count": 30,
   "metadata": {},
   "outputs": [],
   "source": [
    "y_prediction = linreg.predict(Xnum_test)"
   ]
  },
  {
   "cell_type": "code",
   "execution_count": 31,
   "metadata": {},
   "outputs": [
    {
     "name": "stdout",
     "output_type": "stream",
     "text": [
      "60.080953802827096\n"
     ]
    }
   ],
   "source": [
    "RMSE = sqrt(mean_squared_error(y_true = ynum_test, y_pred = y_prediction))\n",
    "print(RMSE)"
   ]
  },
  {
   "cell_type": "code",
   "execution_count": 32,
   "metadata": {
    "scrolled": false
   },
   "outputs": [
    {
     "data": {
      "text/plain": [
       "0.5228614048808091"
      ]
     },
     "execution_count": 32,
     "metadata": {},
     "output_type": "execute_result"
    }
   ],
   "source": [
    "r2_score(ynum_test, y_prediction)"
   ]
  },
  {
   "cell_type": "code",
   "execution_count": 33,
   "metadata": {},
   "outputs": [],
   "source": [
    "y_test = pd.DataFrame(y_test)\n",
    "y_test = y_test.reset_index(drop = True)"
   ]
  },
  {
   "cell_type": "code",
   "execution_count": 34,
   "metadata": {},
   "outputs": [],
   "source": [
    "y_prediction = pd.DataFrame(y_prediction)"
   ]
  },
  {
   "cell_type": "code",
   "execution_count": 35,
   "metadata": {},
   "outputs": [],
   "source": [
    "df1_compare = pd.concat([y_test, y_prediction], axis = 1)\n",
    "df1_compare.columns = ['y_test', 'y_pred']\n",
    "df1_compare['difference'] = df1_compare['y_test'] - df1_compare['y_pred']"
   ]
  },
  {
   "cell_type": "code",
   "execution_count": 36,
   "metadata": {},
   "outputs": [
    {
     "data": {
      "text/plain": [
       "count    1464.000000\n",
       "mean        2.696004\n",
       "std        60.040944\n",
       "min      -238.006380\n",
       "25%       -35.639152\n",
       "50%        -6.026667\n",
       "75%        31.167413\n",
       "max       249.311171\n",
       "Name: difference, dtype: float64"
      ]
     },
     "execution_count": 36,
     "metadata": {},
     "output_type": "execute_result"
    }
   ],
   "source": [
    "df1_compare['difference'].describe()"
   ]
  },
  {
   "cell_type": "markdown",
   "metadata": {},
   "source": [
    "## 2: Decision Tree for numeric vars"
   ]
  },
  {
   "cell_type": "code",
   "execution_count": 37,
   "metadata": {},
   "outputs": [
    {
     "data": {
      "text/plain": [
       "DecisionTreeRegressor()"
      ]
     },
     "execution_count": 37,
     "metadata": {},
     "output_type": "execute_result"
    }
   ],
   "source": [
    "regressor = DecisionTreeRegressor()\n",
    "regressor.fit(Xnum_train, ynum_train)"
   ]
  },
  {
   "cell_type": "code",
   "execution_count": 38,
   "metadata": {},
   "outputs": [],
   "source": [
    "y_prediction = regressor.predict(Xnum_test)\n",
    "y_prediction = pd.DataFrame(y_prediction)"
   ]
  },
  {
   "cell_type": "code",
   "execution_count": 39,
   "metadata": {},
   "outputs": [
    {
     "name": "stdout",
     "output_type": "stream",
     "text": [
      "79.25223876791605\n"
     ]
    }
   ],
   "source": [
    "RMSE = sqrt(mean_squared_error (y_true = y_test, y_pred = y_prediction))\n",
    "print(RMSE)"
   ]
  },
  {
   "cell_type": "code",
   "execution_count": 40,
   "metadata": {},
   "outputs": [
    {
     "data": {
      "text/plain": [
       "0.16977847536567958"
      ]
     },
     "execution_count": 40,
     "metadata": {},
     "output_type": "execute_result"
    }
   ],
   "source": [
    "r2_score(ynum_test, y_prediction)"
   ]
  },
  {
   "cell_type": "markdown",
   "metadata": {},
   "source": [
    "## Column Transformer"
   ]
  },
  {
   "cell_type": "code",
   "execution_count": 41,
   "metadata": {},
   "outputs": [],
   "source": [
    "ct = ColumnTransformer([\n",
    "    ('Scaler', RobustScaler(), num_varsX),\n",
    "    ('OHE', OneHotEncoder(sparse = False, handle_unknown = 'ignore'),categorical_vars),\n",
    "], remainder = 'passthrough')"
   ]
  },
  {
   "cell_type": "code",
   "execution_count": 42,
   "metadata": {},
   "outputs": [
    {
     "data": {
      "text/plain": [
       "array([[-30.        ,  -1.        ,   0.        , ...,   0.        ,\n",
       "          0.        ,  33.        ],\n",
       "       [ -8.        ,  -0.66666667,   0.        , ...,   0.        ,\n",
       "          0.        , 124.        ],\n",
       "       [  0.        ,   1.33333333,   2.        , ...,   0.        ,\n",
       "          0.        , 131.        ],\n",
       "       ...,\n",
       "       [  0.        ,  -0.33333333,   0.        , ...,   0.        ,\n",
       "          0.        , 125.        ],\n",
       "       [  0.        ,   1.33333333,   2.        , ...,   0.        ,\n",
       "          0.        , 300.        ],\n",
       "       [  0.        ,  -0.33333333,   1.        , ...,   0.        ,\n",
       "          0.        ,  94.        ]])"
      ]
     },
     "execution_count": 42,
     "metadata": {},
     "output_type": "execute_result"
    }
   ],
   "source": [
    "ct.fit_transform(X_train)"
   ]
  },
  {
   "cell_type": "code",
   "execution_count": 43,
   "metadata": {},
   "outputs": [
    {
     "data": {
      "text/plain": [
       "array([[  0.        ,  -1.        ,   0.        , ...,   0.        ,\n",
       "          0.        ,  44.        ],\n",
       "       [  0.        ,   0.        ,   1.        , ...,   0.        ,\n",
       "          0.        , 195.        ],\n",
       "       [  0.        ,  -0.66666667,   0.        , ...,   0.        ,\n",
       "          0.        ,  96.        ],\n",
       "       ...,\n",
       "       [ -1.        ,   4.        ,   4.        , ...,   0.        ,\n",
       "          0.        , 400.        ],\n",
       "       [  0.        ,   0.66666667,   2.        , ...,   0.        ,\n",
       "          0.        , 225.        ],\n",
       "       [  0.        ,   1.33333333,   2.        , ...,   0.        ,\n",
       "          0.        , 154.        ]])"
      ]
     },
     "execution_count": 43,
     "metadata": {},
     "output_type": "execute_result"
    }
   ],
   "source": [
    "ct.fit_transform(X_test)"
   ]
  },
  {
   "cell_type": "code",
   "execution_count": 44,
   "metadata": {},
   "outputs": [],
   "source": [
    "X_train_transform = pd.DataFrame(ct.transform(X_train))"
   ]
  },
  {
   "cell_type": "code",
   "execution_count": 45,
   "metadata": {},
   "outputs": [
    {
     "data": {
      "text/plain": [
       "0       0.0\n",
       "1       0.0\n",
       "2       0.0\n",
       "3       0.0\n",
       "4       0.0\n",
       "       ... \n",
       "1459    0.0\n",
       "1460    0.0\n",
       "1461   -1.0\n",
       "1462    0.0\n",
       "1463    0.0\n",
       "Name: 0, Length: 1464, dtype: float64"
      ]
     },
     "execution_count": 45,
     "metadata": {},
     "output_type": "execute_result"
    }
   ],
   "source": [
    "X_test_transform = pd.DataFrame(ct.transform(X_test))\n",
    "X_test_transform[0]"
   ]
  },
  {
   "cell_type": "markdown",
   "metadata": {},
   "source": [
    "## 3: Linear Regression on transformed data"
   ]
  },
  {
   "cell_type": "code",
   "execution_count": 46,
   "metadata": {},
   "outputs": [
    {
     "data": {
      "text/plain": [
       "LinearRegression()"
      ]
     },
     "execution_count": 46,
     "metadata": {},
     "output_type": "execute_result"
    }
   ],
   "source": [
    "linreg.fit(X_train_transform, y_train)"
   ]
  },
  {
   "cell_type": "code",
   "execution_count": 47,
   "metadata": {},
   "outputs": [],
   "source": [
    "y_prediction = linreg.predict(X_test_transform)\n",
    "y_pred_df = pd.DataFrame(y_prediction)"
   ]
  },
  {
   "cell_type": "code",
   "execution_count": 48,
   "metadata": {},
   "outputs": [
    {
     "name": "stdout",
     "output_type": "stream",
     "text": [
      "2.025996612584444e-13\n"
     ]
    }
   ],
   "source": [
    "RMSE = sqrt(mean_squared_error(y_true = y_test, y_pred = y_pred_df))\n",
    "print(RMSE)"
   ]
  },
  {
   "cell_type": "code",
   "execution_count": 49,
   "metadata": {},
   "outputs": [
    {
     "data": {
      "text/plain": [
       "1.0"
      ]
     },
     "execution_count": 49,
     "metadata": {},
     "output_type": "execute_result"
    }
   ],
   "source": [
    "r2_score(y_test, y_prediction)"
   ]
  },
  {
   "cell_type": "markdown",
   "metadata": {},
   "source": [
    "## 4: Linear Regression Transformed - Pared"
   ]
  },
  {
   "cell_type": "code",
   "execution_count": 50,
   "metadata": {},
   "outputs": [
    {
     "name": "stdout",
     "output_type": "stream",
     "text": [
      "Index(['id', 'host_has_profile_pic', 'host_identity_verified',\n",
      "       'neighbourhood_cleansed', 'room_type', 'accommodates', 'bedrooms',\n",
      "       'beds', 'price', 'minimum_nights', 'number_of_reviews',\n",
      "       'review_scores_rating', 'review_scores_location',\n",
      "       'time_from_last_review', 'num_amenities'],\n",
      "      dtype='object')\n",
      "(3659, 15)\n"
     ]
    }
   ],
   "source": [
    "drop_vars2 = ['host_is_superhost', 'host_response_time', 'host_response_rate', 'property_type', \n",
    "                 'bathrooms_text', 'amenities', 'availability_30', 'review_scores_cleanliness', \n",
    "                 'review_scores_checkin', 'review_scores_communication', 'review_scores_value', \n",
    "                 'instant_bookable']\n",
    "df2 = clean_data.drop(drop_vars2, axis = 1)\n",
    "print(df2.columns)\n",
    "print(df2.shape)"
   ]
  },
  {
   "cell_type": "code",
   "execution_count": 51,
   "metadata": {},
   "outputs": [],
   "source": [
    "num_vars = ['accommodates', 'bedrooms', 'beds', 'minimum_nights', 'number_of_reviews', 'review_scores_rating',\n",
    "                'review_scores_location', 'time_from_last_review', 'num_amenities']\n",
    "cat_vars = ['host_has_profile_pic', 'host_identity_verified', 'room_type']\n",
    "    \n",
    "X = ['accommodates', 'bedrooms', 'beds', 'minimum_nights', 'number_of_reviews', 'review_scores_rating',\n",
    "            'review_scores_location', 'time_from_last_review', 'num_amenities', 'host_has_profile_pic', \n",
    "           'host_identity_verified', 'room_type']\n",
    "y = ['price']\n",
    "X = df2[X]\n",
    "y = df2[y]"
   ]
  },
  {
   "cell_type": "code",
   "execution_count": 52,
   "metadata": {},
   "outputs": [
    {
     "data": {
      "text/plain": [
       "array([[ 0.66666667,  1.        ,  0.        , ...,  0.        ,\n",
       "         0.        ,  0.        ],\n",
       "       [ 0.66666667,  1.        ,  0.5       , ...,  0.        ,\n",
       "         0.        ,  0.        ],\n",
       "       [ 1.33333333,  2.        ,  1.5       , ...,  0.        ,\n",
       "         0.        ,  0.        ],\n",
       "       ...,\n",
       "       [-0.66666667,  0.        , -0.5       , ...,  1.        ,\n",
       "         0.        ,  0.        ],\n",
       "       [ 0.66666667,  2.        ,  0.5       , ...,  0.        ,\n",
       "         0.        ,  0.        ],\n",
       "       [-0.66666667,  0.        , -0.5       , ...,  0.        ,\n",
       "         0.        ,  0.        ]])"
      ]
     },
     "execution_count": 52,
     "metadata": {},
     "output_type": "execute_result"
    }
   ],
   "source": [
    "X_train, X_test, y_train, y_test = train_test_split(X,y, test_size = .3, random_state = 91)\n",
    "\n",
    "ct = ColumnTransformer([\n",
    "        ('Scaler', RobustScaler(), num_vars),\n",
    "        ('OHE', OneHotEncoder(sparse = False, handle_unknown = 'ignore'),cat_vars),\n",
    "    ], remainder = 'passthrough')\n",
    "    \n",
    "ct.fit_transform(X_train)\n",
    "ct.fit_transform(X_test)"
   ]
  },
  {
   "cell_type": "code",
   "execution_count": 53,
   "metadata": {},
   "outputs": [],
   "source": [
    "X_train_transform = pd.DataFrame(ct.transform(X_train))"
   ]
  },
  {
   "cell_type": "code",
   "execution_count": 54,
   "metadata": {},
   "outputs": [],
   "source": [
    "X_test_transform = pd.DataFrame(ct.transform(X_test))"
   ]
  },
  {
   "cell_type": "code",
   "execution_count": 55,
   "metadata": {},
   "outputs": [],
   "source": [
    "linreg.fit(X_train_transform, y_train)\n",
    "y_prediction = linreg.predict(X_test_transform)"
   ]
  },
  {
   "cell_type": "code",
   "execution_count": 56,
   "metadata": {},
   "outputs": [],
   "source": [
    "y_prediction= pd.DataFrame(y_prediction)"
   ]
  },
  {
   "cell_type": "code",
   "execution_count": 57,
   "metadata": {},
   "outputs": [
    {
     "name": "stdout",
     "output_type": "stream",
     "text": [
      "58.80810643108105\n"
     ]
    },
    {
     "data": {
      "text/plain": [
       "0.5372364497484763"
      ]
     },
     "execution_count": 57,
     "metadata": {},
     "output_type": "execute_result"
    }
   ],
   "source": [
    "RMSE = sqrt(mean_squared_error(y_true = y_test, y_pred = y_prediction))\n",
    "print(RMSE)\n",
    "r2_score(y_test, y_prediction)"
   ]
  },
  {
   "cell_type": "markdown",
   "metadata": {},
   "source": [
    "## Just playing around + visualizations"
   ]
  },
  {
   "cell_type": "code",
   "execution_count": 58,
   "metadata": {},
   "outputs": [
    {
     "data": {
      "text/plain": [
       "Index(['id', 'host_response_time', 'host_response_rate', 'host_is_superhost',\n",
       "       'host_has_profile_pic', 'host_identity_verified',\n",
       "       'neighbourhood_cleansed', 'property_type', 'room_type', 'accommodates',\n",
       "       'bathrooms_text', 'bedrooms', 'beds', 'amenities', 'price',\n",
       "       'minimum_nights', 'availability_30', 'number_of_reviews',\n",
       "       'review_scores_rating', 'review_scores_cleanliness',\n",
       "       'review_scores_checkin', 'review_scores_communication',\n",
       "       'review_scores_location', 'review_scores_value', 'instant_bookable',\n",
       "       'time_from_last_review', 'num_amenities'],\n",
       "      dtype='object')"
      ]
     },
     "execution_count": 58,
     "metadata": {},
     "output_type": "execute_result"
    }
   ],
   "source": [
    "clean_data.columns"
   ]
  },
  {
   "cell_type": "code",
   "execution_count": 59,
   "metadata": {},
   "outputs": [
    {
     "data": {
      "text/plain": [
       "Entire home/apt    3119\n",
       "Private room        511\n",
       "Shared room          23\n",
       "Hotel room            6\n",
       "Name: room_type, dtype: int64"
      ]
     },
     "execution_count": 59,
     "metadata": {},
     "output_type": "execute_result"
    }
   ],
   "source": [
    "clean_data.room_type.value_counts()"
   ]
  },
  {
   "cell_type": "code",
   "execution_count": 60,
   "metadata": {},
   "outputs": [
    {
     "data": {
      "text/html": [
       "<div>\n",
       "<style scoped>\n",
       "    .dataframe tbody tr th:only-of-type {\n",
       "        vertical-align: middle;\n",
       "    }\n",
       "\n",
       "    .dataframe tbody tr th {\n",
       "        vertical-align: top;\n",
       "    }\n",
       "\n",
       "    .dataframe thead th {\n",
       "        text-align: right;\n",
       "    }\n",
       "</style>\n",
       "<table border=\"1\" class=\"dataframe\">\n",
       "  <thead>\n",
       "    <tr style=\"text-align: right;\">\n",
       "      <th></th>\n",
       "      <th>accommodates</th>\n",
       "      <th>bedrooms</th>\n",
       "      <th>beds</th>\n",
       "      <th>minimum_nights</th>\n",
       "      <th>number_of_reviews</th>\n",
       "      <th>review_scores_rating</th>\n",
       "      <th>review_scores_location</th>\n",
       "      <th>time_from_last_review</th>\n",
       "      <th>num_amenities</th>\n",
       "      <th>host_has_profile_pic</th>\n",
       "      <th>host_identity_verified</th>\n",
       "      <th>room_type</th>\n",
       "      <th>price</th>\n",
       "    </tr>\n",
       "  </thead>\n",
       "  <tbody>\n",
       "    <tr>\n",
       "      <th>6123</th>\n",
       "      <td>6</td>\n",
       "      <td>2.0</td>\n",
       "      <td>2.0</td>\n",
       "      <td>1</td>\n",
       "      <td>69</td>\n",
       "      <td>95.0</td>\n",
       "      <td>9.0</td>\n",
       "      <td>38</td>\n",
       "      <td>31</td>\n",
       "      <td>t</td>\n",
       "      <td>t</td>\n",
       "      <td>Entire home/apt</td>\n",
       "      <td>107.0</td>\n",
       "    </tr>\n",
       "    <tr>\n",
       "      <th>4562</th>\n",
       "      <td>6</td>\n",
       "      <td>2.0</td>\n",
       "      <td>3.0</td>\n",
       "      <td>1</td>\n",
       "      <td>103</td>\n",
       "      <td>90.0</td>\n",
       "      <td>10.0</td>\n",
       "      <td>16</td>\n",
       "      <td>32</td>\n",
       "      <td>t</td>\n",
       "      <td>t</td>\n",
       "      <td>Entire home/apt</td>\n",
       "      <td>250.0</td>\n",
       "    </tr>\n",
       "    <tr>\n",
       "      <th>1048</th>\n",
       "      <td>8</td>\n",
       "      <td>3.0</td>\n",
       "      <td>5.0</td>\n",
       "      <td>3</td>\n",
       "      <td>60</td>\n",
       "      <td>95.0</td>\n",
       "      <td>10.0</td>\n",
       "      <td>50</td>\n",
       "      <td>37</td>\n",
       "      <td>t</td>\n",
       "      <td>t</td>\n",
       "      <td>Entire home/apt</td>\n",
       "      <td>219.0</td>\n",
       "    </tr>\n",
       "    <tr>\n",
       "      <th>4854</th>\n",
       "      <td>4</td>\n",
       "      <td>2.0</td>\n",
       "      <td>2.0</td>\n",
       "      <td>2</td>\n",
       "      <td>63</td>\n",
       "      <td>93.0</td>\n",
       "      <td>10.0</td>\n",
       "      <td>49</td>\n",
       "      <td>32</td>\n",
       "      <td>t</td>\n",
       "      <td>t</td>\n",
       "      <td>Entire home/apt</td>\n",
       "      <td>104.0</td>\n",
       "    </tr>\n",
       "    <tr>\n",
       "      <th>4620</th>\n",
       "      <td>4</td>\n",
       "      <td>1.0</td>\n",
       "      <td>2.0</td>\n",
       "      <td>3</td>\n",
       "      <td>50</td>\n",
       "      <td>98.0</td>\n",
       "      <td>10.0</td>\n",
       "      <td>50</td>\n",
       "      <td>30</td>\n",
       "      <td>t</td>\n",
       "      <td>t</td>\n",
       "      <td>Entire home/apt</td>\n",
       "      <td>135.0</td>\n",
       "    </tr>\n",
       "    <tr>\n",
       "      <th>...</th>\n",
       "      <td>...</td>\n",
       "      <td>...</td>\n",
       "      <td>...</td>\n",
       "      <td>...</td>\n",
       "      <td>...</td>\n",
       "      <td>...</td>\n",
       "      <td>...</td>\n",
       "      <td>...</td>\n",
       "      <td>...</td>\n",
       "      <td>...</td>\n",
       "      <td>...</td>\n",
       "      <td>...</td>\n",
       "      <td>...</td>\n",
       "    </tr>\n",
       "    <tr>\n",
       "      <th>7467</th>\n",
       "      <td>6</td>\n",
       "      <td>1.0</td>\n",
       "      <td>1.0</td>\n",
       "      <td>1</td>\n",
       "      <td>27</td>\n",
       "      <td>85.0</td>\n",
       "      <td>9.0</td>\n",
       "      <td>18</td>\n",
       "      <td>28</td>\n",
       "      <td>t</td>\n",
       "      <td>t</td>\n",
       "      <td>Entire home/apt</td>\n",
       "      <td>194.0</td>\n",
       "    </tr>\n",
       "    <tr>\n",
       "      <th>4498</th>\n",
       "      <td>4</td>\n",
       "      <td>1.0</td>\n",
       "      <td>1.0</td>\n",
       "      <td>2</td>\n",
       "      <td>204</td>\n",
       "      <td>100.0</td>\n",
       "      <td>10.0</td>\n",
       "      <td>7</td>\n",
       "      <td>36</td>\n",
       "      <td>t</td>\n",
       "      <td>t</td>\n",
       "      <td>Entire home/apt</td>\n",
       "      <td>126.0</td>\n",
       "    </tr>\n",
       "    <tr>\n",
       "      <th>5997</th>\n",
       "      <td>2</td>\n",
       "      <td>1.0</td>\n",
       "      <td>1.0</td>\n",
       "      <td>1</td>\n",
       "      <td>107</td>\n",
       "      <td>88.0</td>\n",
       "      <td>9.0</td>\n",
       "      <td>7</td>\n",
       "      <td>17</td>\n",
       "      <td>t</td>\n",
       "      <td>t</td>\n",
       "      <td>Hotel room</td>\n",
       "      <td>84.0</td>\n",
       "    </tr>\n",
       "    <tr>\n",
       "      <th>7483</th>\n",
       "      <td>6</td>\n",
       "      <td>3.0</td>\n",
       "      <td>3.0</td>\n",
       "      <td>3</td>\n",
       "      <td>8</td>\n",
       "      <td>95.0</td>\n",
       "      <td>10.0</td>\n",
       "      <td>84</td>\n",
       "      <td>25</td>\n",
       "      <td>t</td>\n",
       "      <td>t</td>\n",
       "      <td>Entire home/apt</td>\n",
       "      <td>400.0</td>\n",
       "    </tr>\n",
       "    <tr>\n",
       "      <th>8476</th>\n",
       "      <td>2</td>\n",
       "      <td>1.0</td>\n",
       "      <td>1.0</td>\n",
       "      <td>2</td>\n",
       "      <td>2</td>\n",
       "      <td>100.0</td>\n",
       "      <td>10.0</td>\n",
       "      <td>49</td>\n",
       "      <td>18</td>\n",
       "      <td>t</td>\n",
       "      <td>t</td>\n",
       "      <td>Entire home/apt</td>\n",
       "      <td>70.0</td>\n",
       "    </tr>\n",
       "  </tbody>\n",
       "</table>\n",
       "<p>1098 rows × 13 columns</p>\n",
       "</div>"
      ],
      "text/plain": [
       "      accommodates  bedrooms  beds  minimum_nights  number_of_reviews  \\\n",
       "6123             6       2.0   2.0               1                 69   \n",
       "4562             6       2.0   3.0               1                103   \n",
       "1048             8       3.0   5.0               3                 60   \n",
       "4854             4       2.0   2.0               2                 63   \n",
       "4620             4       1.0   2.0               3                 50   \n",
       "...            ...       ...   ...             ...                ...   \n",
       "7467             6       1.0   1.0               1                 27   \n",
       "4498             4       1.0   1.0               2                204   \n",
       "5997             2       1.0   1.0               1                107   \n",
       "7483             6       3.0   3.0               3                  8   \n",
       "8476             2       1.0   1.0               2                  2   \n",
       "\n",
       "      review_scores_rating  review_scores_location  time_from_last_review  \\\n",
       "6123                  95.0                     9.0                     38   \n",
       "4562                  90.0                    10.0                     16   \n",
       "1048                  95.0                    10.0                     50   \n",
       "4854                  93.0                    10.0                     49   \n",
       "4620                  98.0                    10.0                     50   \n",
       "...                    ...                     ...                    ...   \n",
       "7467                  85.0                     9.0                     18   \n",
       "4498                 100.0                    10.0                      7   \n",
       "5997                  88.0                     9.0                      7   \n",
       "7483                  95.0                    10.0                     84   \n",
       "8476                 100.0                    10.0                     49   \n",
       "\n",
       "      num_amenities host_has_profile_pic host_identity_verified  \\\n",
       "6123             31                    t                      t   \n",
       "4562             32                    t                      t   \n",
       "1048             37                    t                      t   \n",
       "4854             32                    t                      t   \n",
       "4620             30                    t                      t   \n",
       "...             ...                  ...                    ...   \n",
       "7467             28                    t                      t   \n",
       "4498             36                    t                      t   \n",
       "5997             17                    t                      t   \n",
       "7483             25                    t                      t   \n",
       "8476             18                    t                      t   \n",
       "\n",
       "            room_type  price  \n",
       "6123  Entire home/apt  107.0  \n",
       "4562  Entire home/apt  250.0  \n",
       "1048  Entire home/apt  219.0  \n",
       "4854  Entire home/apt  104.0  \n",
       "4620  Entire home/apt  135.0  \n",
       "...               ...    ...  \n",
       "7467  Entire home/apt  194.0  \n",
       "4498  Entire home/apt  126.0  \n",
       "5997       Hotel room   84.0  \n",
       "7483  Entire home/apt  400.0  \n",
       "8476  Entire home/apt   70.0  \n",
       "\n",
       "[1098 rows x 13 columns]"
      ]
     },
     "execution_count": 60,
     "metadata": {},
     "output_type": "execute_result"
    }
   ],
   "source": [
    "concat = pd.concat([X_test, y_test], axis = 1)\n",
    "concat"
   ]
  },
  {
   "cell_type": "code",
   "execution_count": 61,
   "metadata": {},
   "outputs": [],
   "source": [
    "concat = concat.reset_index()"
   ]
  },
  {
   "cell_type": "code",
   "execution_count": 62,
   "metadata": {},
   "outputs": [],
   "source": [
    "y_prediction = y_prediction.rename(columns = {0:'y_pred'})"
   ]
  },
  {
   "cell_type": "code",
   "execution_count": 63,
   "metadata": {},
   "outputs": [],
   "source": [
    "concat = pd.concat ([concat, y_prediction], axis = 1)"
   ]
  },
  {
   "cell_type": "code",
   "execution_count": 64,
   "metadata": {},
   "outputs": [],
   "source": [
    "concat['diff'] = abs(concat['price'] - concat['y_pred'])"
   ]
  },
  {
   "cell_type": "code",
   "execution_count": 65,
   "metadata": {},
   "outputs": [],
   "source": [
    "concat = concat.sort_values(by = ['diff'], ascending = False)"
   ]
  },
  {
   "cell_type": "code",
   "execution_count": 66,
   "metadata": {},
   "outputs": [
    {
     "data": {
      "text/html": [
       "<div>\n",
       "<style scoped>\n",
       "    .dataframe tbody tr th:only-of-type {\n",
       "        vertical-align: middle;\n",
       "    }\n",
       "\n",
       "    .dataframe tbody tr th {\n",
       "        vertical-align: top;\n",
       "    }\n",
       "\n",
       "    .dataframe thead th {\n",
       "        text-align: right;\n",
       "    }\n",
       "</style>\n",
       "<table border=\"1\" class=\"dataframe\">\n",
       "  <thead>\n",
       "    <tr style=\"text-align: right;\">\n",
       "      <th></th>\n",
       "      <th>id</th>\n",
       "      <th>host_response_rate</th>\n",
       "      <th>accommodates</th>\n",
       "      <th>bedrooms</th>\n",
       "      <th>beds</th>\n",
       "      <th>price</th>\n",
       "      <th>minimum_nights</th>\n",
       "      <th>availability_30</th>\n",
       "      <th>number_of_reviews</th>\n",
       "      <th>review_scores_rating</th>\n",
       "      <th>review_scores_cleanliness</th>\n",
       "      <th>review_scores_checkin</th>\n",
       "      <th>review_scores_communication</th>\n",
       "      <th>review_scores_location</th>\n",
       "      <th>review_scores_value</th>\n",
       "      <th>time_from_last_review</th>\n",
       "      <th>num_amenities</th>\n",
       "    </tr>\n",
       "  </thead>\n",
       "  <tbody>\n",
       "    <tr>\n",
       "      <th>count</th>\n",
       "      <td>1.0</td>\n",
       "      <td>1.00</td>\n",
       "      <td>1.0</td>\n",
       "      <td>1.0</td>\n",
       "      <td>1.0</td>\n",
       "      <td>1.0</td>\n",
       "      <td>1.0</td>\n",
       "      <td>1.0</td>\n",
       "      <td>1.0</td>\n",
       "      <td>1.0</td>\n",
       "      <td>1.0</td>\n",
       "      <td>1.0</td>\n",
       "      <td>1.0</td>\n",
       "      <td>1.0</td>\n",
       "      <td>1.0</td>\n",
       "      <td>1.0</td>\n",
       "      <td>1.0</td>\n",
       "    </tr>\n",
       "    <tr>\n",
       "      <th>mean</th>\n",
       "      <td>35126852.0</td>\n",
       "      <td>0.95</td>\n",
       "      <td>8.0</td>\n",
       "      <td>4.0</td>\n",
       "      <td>7.0</td>\n",
       "      <td>97.0</td>\n",
       "      <td>1.0</td>\n",
       "      <td>0.0</td>\n",
       "      <td>37.0</td>\n",
       "      <td>91.0</td>\n",
       "      <td>9.0</td>\n",
       "      <td>10.0</td>\n",
       "      <td>10.0</td>\n",
       "      <td>9.0</td>\n",
       "      <td>9.0</td>\n",
       "      <td>39.0</td>\n",
       "      <td>37.0</td>\n",
       "    </tr>\n",
       "    <tr>\n",
       "      <th>std</th>\n",
       "      <td>NaN</td>\n",
       "      <td>NaN</td>\n",
       "      <td>NaN</td>\n",
       "      <td>NaN</td>\n",
       "      <td>NaN</td>\n",
       "      <td>NaN</td>\n",
       "      <td>NaN</td>\n",
       "      <td>NaN</td>\n",
       "      <td>NaN</td>\n",
       "      <td>NaN</td>\n",
       "      <td>NaN</td>\n",
       "      <td>NaN</td>\n",
       "      <td>NaN</td>\n",
       "      <td>NaN</td>\n",
       "      <td>NaN</td>\n",
       "      <td>NaN</td>\n",
       "      <td>NaN</td>\n",
       "    </tr>\n",
       "    <tr>\n",
       "      <th>min</th>\n",
       "      <td>35126852.0</td>\n",
       "      <td>0.95</td>\n",
       "      <td>8.0</td>\n",
       "      <td>4.0</td>\n",
       "      <td>7.0</td>\n",
       "      <td>97.0</td>\n",
       "      <td>1.0</td>\n",
       "      <td>0.0</td>\n",
       "      <td>37.0</td>\n",
       "      <td>91.0</td>\n",
       "      <td>9.0</td>\n",
       "      <td>10.0</td>\n",
       "      <td>10.0</td>\n",
       "      <td>9.0</td>\n",
       "      <td>9.0</td>\n",
       "      <td>39.0</td>\n",
       "      <td>37.0</td>\n",
       "    </tr>\n",
       "    <tr>\n",
       "      <th>25%</th>\n",
       "      <td>35126852.0</td>\n",
       "      <td>0.95</td>\n",
       "      <td>8.0</td>\n",
       "      <td>4.0</td>\n",
       "      <td>7.0</td>\n",
       "      <td>97.0</td>\n",
       "      <td>1.0</td>\n",
       "      <td>0.0</td>\n",
       "      <td>37.0</td>\n",
       "      <td>91.0</td>\n",
       "      <td>9.0</td>\n",
       "      <td>10.0</td>\n",
       "      <td>10.0</td>\n",
       "      <td>9.0</td>\n",
       "      <td>9.0</td>\n",
       "      <td>39.0</td>\n",
       "      <td>37.0</td>\n",
       "    </tr>\n",
       "    <tr>\n",
       "      <th>50%</th>\n",
       "      <td>35126852.0</td>\n",
       "      <td>0.95</td>\n",
       "      <td>8.0</td>\n",
       "      <td>4.0</td>\n",
       "      <td>7.0</td>\n",
       "      <td>97.0</td>\n",
       "      <td>1.0</td>\n",
       "      <td>0.0</td>\n",
       "      <td>37.0</td>\n",
       "      <td>91.0</td>\n",
       "      <td>9.0</td>\n",
       "      <td>10.0</td>\n",
       "      <td>10.0</td>\n",
       "      <td>9.0</td>\n",
       "      <td>9.0</td>\n",
       "      <td>39.0</td>\n",
       "      <td>37.0</td>\n",
       "    </tr>\n",
       "    <tr>\n",
       "      <th>75%</th>\n",
       "      <td>35126852.0</td>\n",
       "      <td>0.95</td>\n",
       "      <td>8.0</td>\n",
       "      <td>4.0</td>\n",
       "      <td>7.0</td>\n",
       "      <td>97.0</td>\n",
       "      <td>1.0</td>\n",
       "      <td>0.0</td>\n",
       "      <td>37.0</td>\n",
       "      <td>91.0</td>\n",
       "      <td>9.0</td>\n",
       "      <td>10.0</td>\n",
       "      <td>10.0</td>\n",
       "      <td>9.0</td>\n",
       "      <td>9.0</td>\n",
       "      <td>39.0</td>\n",
       "      <td>37.0</td>\n",
       "    </tr>\n",
       "    <tr>\n",
       "      <th>max</th>\n",
       "      <td>35126852.0</td>\n",
       "      <td>0.95</td>\n",
       "      <td>8.0</td>\n",
       "      <td>4.0</td>\n",
       "      <td>7.0</td>\n",
       "      <td>97.0</td>\n",
       "      <td>1.0</td>\n",
       "      <td>0.0</td>\n",
       "      <td>37.0</td>\n",
       "      <td>91.0</td>\n",
       "      <td>9.0</td>\n",
       "      <td>10.0</td>\n",
       "      <td>10.0</td>\n",
       "      <td>9.0</td>\n",
       "      <td>9.0</td>\n",
       "      <td>39.0</td>\n",
       "      <td>37.0</td>\n",
       "    </tr>\n",
       "  </tbody>\n",
       "</table>\n",
       "</div>"
      ],
      "text/plain": [
       "               id  host_response_rate  accommodates  bedrooms  beds  price  \\\n",
       "count         1.0                1.00           1.0       1.0   1.0    1.0   \n",
       "mean   35126852.0                0.95           8.0       4.0   7.0   97.0   \n",
       "std           NaN                 NaN           NaN       NaN   NaN    NaN   \n",
       "min    35126852.0                0.95           8.0       4.0   7.0   97.0   \n",
       "25%    35126852.0                0.95           8.0       4.0   7.0   97.0   \n",
       "50%    35126852.0                0.95           8.0       4.0   7.0   97.0   \n",
       "75%    35126852.0                0.95           8.0       4.0   7.0   97.0   \n",
       "max    35126852.0                0.95           8.0       4.0   7.0   97.0   \n",
       "\n",
       "       minimum_nights  availability_30  number_of_reviews  \\\n",
       "count             1.0              1.0                1.0   \n",
       "mean              1.0              0.0               37.0   \n",
       "std               NaN              NaN                NaN   \n",
       "min               1.0              0.0               37.0   \n",
       "25%               1.0              0.0               37.0   \n",
       "50%               1.0              0.0               37.0   \n",
       "75%               1.0              0.0               37.0   \n",
       "max               1.0              0.0               37.0   \n",
       "\n",
       "       review_scores_rating  review_scores_cleanliness  review_scores_checkin  \\\n",
       "count                   1.0                        1.0                    1.0   \n",
       "mean                   91.0                        9.0                   10.0   \n",
       "std                     NaN                        NaN                    NaN   \n",
       "min                    91.0                        9.0                   10.0   \n",
       "25%                    91.0                        9.0                   10.0   \n",
       "50%                    91.0                        9.0                   10.0   \n",
       "75%                    91.0                        9.0                   10.0   \n",
       "max                    91.0                        9.0                   10.0   \n",
       "\n",
       "       review_scores_communication  review_scores_location  \\\n",
       "count                          1.0                     1.0   \n",
       "mean                          10.0                     9.0   \n",
       "std                            NaN                     NaN   \n",
       "min                           10.0                     9.0   \n",
       "25%                           10.0                     9.0   \n",
       "50%                           10.0                     9.0   \n",
       "75%                           10.0                     9.0   \n",
       "max                           10.0                     9.0   \n",
       "\n",
       "       review_scores_value  time_from_last_review  num_amenities  \n",
       "count                  1.0                    1.0            1.0  \n",
       "mean                   9.0                   39.0           37.0  \n",
       "std                    NaN                    NaN            NaN  \n",
       "min                    9.0                   39.0           37.0  \n",
       "25%                    9.0                   39.0           37.0  \n",
       "50%                    9.0                   39.0           37.0  \n",
       "75%                    9.0                   39.0           37.0  \n",
       "max                    9.0                   39.0           37.0  "
      ]
     },
     "execution_count": 66,
     "metadata": {},
     "output_type": "execute_result"
    }
   ],
   "source": [
    "gv1 = df['price'] == 97.0\n",
    "gv2 = df['review_scores_rating'] == 91.0    \n",
    "gv3 = df['host_response_rate'] == 0.95     \n",
    "df[gv1 & gv2 & gv3].describe()"
   ]
  },
  {
   "cell_type": "code",
   "execution_count": 67,
   "metadata": {},
   "outputs": [
    {
     "data": {
      "text/html": [
       "<div>\n",
       "<style scoped>\n",
       "    .dataframe tbody tr th:only-of-type {\n",
       "        vertical-align: middle;\n",
       "    }\n",
       "\n",
       "    .dataframe tbody tr th {\n",
       "        vertical-align: top;\n",
       "    }\n",
       "\n",
       "    .dataframe thead th {\n",
       "        text-align: right;\n",
       "    }\n",
       "</style>\n",
       "<table border=\"1\" class=\"dataframe\">\n",
       "  <thead>\n",
       "    <tr style=\"text-align: right;\">\n",
       "      <th></th>\n",
       "      <th>price</th>\n",
       "    </tr>\n",
       "  </thead>\n",
       "  <tbody>\n",
       "    <tr>\n",
       "      <th>count</th>\n",
       "      <td>1098.000000</td>\n",
       "    </tr>\n",
       "    <tr>\n",
       "      <th>mean</th>\n",
       "      <td>155.442623</td>\n",
       "    </tr>\n",
       "    <tr>\n",
       "      <th>std</th>\n",
       "      <td>86.487925</td>\n",
       "    </tr>\n",
       "    <tr>\n",
       "      <th>min</th>\n",
       "      <td>25.000000</td>\n",
       "    </tr>\n",
       "    <tr>\n",
       "      <th>25%</th>\n",
       "      <td>95.000000</td>\n",
       "    </tr>\n",
       "    <tr>\n",
       "      <th>50%</th>\n",
       "      <td>135.000000</td>\n",
       "    </tr>\n",
       "    <tr>\n",
       "      <th>75%</th>\n",
       "      <td>195.750000</td>\n",
       "    </tr>\n",
       "    <tr>\n",
       "      <th>max</th>\n",
       "      <td>414.000000</td>\n",
       "    </tr>\n",
       "  </tbody>\n",
       "</table>\n",
       "</div>"
      ],
      "text/plain": [
       "             price\n",
       "count  1098.000000\n",
       "mean    155.442623\n",
       "std      86.487925\n",
       "min      25.000000\n",
       "25%      95.000000\n",
       "50%     135.000000\n",
       "75%     195.750000\n",
       "max     414.000000"
      ]
     },
     "execution_count": 67,
     "metadata": {},
     "output_type": "execute_result"
    }
   ],
   "source": [
    "y_test.describe()"
   ]
  },
  {
   "cell_type": "code",
   "execution_count": 68,
   "metadata": {},
   "outputs": [],
   "source": [
    "%matplotlib inline\n",
    "import matplotlib.pyplot as plt"
   ]
  },
  {
   "cell_type": "code",
   "execution_count": 85,
   "metadata": {},
   "outputs": [
    {
     "data": {
      "image/png": "[encoded data removed]",
      "text/plain": [
       "<Figure size 720x720 with 1 Axes>"
      ]
     },
     "metadata": {
      "needs_background": "light"
     },
     "output_type": "display_data"
    }
   ],
   "source": [
    "fig, axis = plt.subplots(figsize = (10,10))\n",
    "plt.scatter(concat['price'].values,concat['y_pred'].values, color = 'teal')\n",
    "plt.plot([-20, 420], [-20, 420], color = 'fuchsia')\n",
    "plt.axis ([-20, 420, -20, 420])\n",
    "axis.set_title('Actual Price vs. Predicted Price, Model 3', fontsize = 25)\n",
    "axis.set_xlabel('Actual Price', fontsize = 20)\n",
    "axis.set_ylabel('Predicted Price', fontsize = 20)\n",
    "axis.tick_params(axis='x', labelsize= 12)\n",
    "axis.tick_params(axis='y', labelsize= 12)\n",
    "axis.text(345, 25, 'r2 = 0.54', fontsize = 15)\n",
    "plt.grid(True)"
   ]
  },
  {
   "cell_type": "markdown",
   "metadata": {},
   "source": [
    "**word**\n",
    "*word*\n",
    "# word\n",
    "## word"
   ]
  },
  {
   "cell_type": "code",
   "execution_count": 90,
   "metadata": {},
   "outputs": [
    {
     "data": {
      "text/plain": [
       "<AxesSubplot:>"
      ]
     },
     "execution_count": 90,
     "metadata": {},
     "output_type": "execute_result"
    },
    {
     "data": {
      "image/png": "[encoded data removed]",
      "text/plain": [
       "<Figure size 432x288 with 1 Axes>"
      ]
     },
     "metadata": {
      "needs_background": "light"
     },
     "output_type": "display_data"
    }
   ],
   "source": [
    "clean_data['price'].hist()"
   ]
  },
  {
   "cell_type": "code",
   "execution_count": 94,
   "metadata": {},
   "outputs": [
    {
     "data": {
      "text/plain": [
       "<pandas.core.groupby.generic.DataFrameGroupBy object at 0x7fd1d888b550>"
      ]
     },
     "execution_count": 94,
     "metadata": {},
     "output_type": "execute_result"
    }
   ],
   "source": [
    "clean_data.groupby('neighbourhood_cleansed')"
   ]
  }
 ],
 "metadata": {
  "kernelspec": {
   "display_name": "Python 3",
   "language": "python",
   "name": "python3"
  },
  "language_info": {
   "codemirror_mode": {
    "name": "ipython",
    "version": 3
   },
   "file_extension": ".py",
   "mimetype": "text/x-python",
   "name": "python",
   "nbconvert_exporter": "python",
   "pygments_lexer": "ipython3",
   "version": "3.8.5"
  }
 },
 "nbformat": 4,
 "nbformat_minor": 4
}
